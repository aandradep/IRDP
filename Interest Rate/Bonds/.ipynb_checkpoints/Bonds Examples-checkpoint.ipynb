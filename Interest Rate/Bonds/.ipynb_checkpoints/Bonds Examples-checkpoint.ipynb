{
 "cells": [
  {
   "cell_type": "markdown",
   "metadata": {},
   "source": [
    "# Pricing Fix Rate Colombian Bonds (TES)"
   ]
  },
  {
   "cell_type": "markdown",
   "metadata": {},
   "source": [
    "In this notebook I price fix rate bonds from Colombia a.k.a TES following the yield curve calibration method describe by Hagan and West in this [paper](https://www.deriscope.com/docs/Hagan_West_curves_AMF.pdf)."
   ]
  },
  {
   "cell_type": "markdown",
   "metadata": {},
   "source": [
    "From the Bolsa de Valores de Colombia web page we can get the interest rate, date of maturity and cupon of all the bonds trading in the colombian market in [this link](https://www.bvc.com.co/pps/tibco/portalbvc/Home/Mercados/enlinea/rentafija?com.tibco.ps.pagesvc.renderParams.sub5d9e2b27_11de9ed172b_-73dc7f000001=action%3Dbuscar%26org.springframework.web.portlet.mvc.ImplicitModel%3Dtrue%26). For this example the date of use is January 30 of 2020 and we exclude all shorterm bonds, this are all the ones that start with TCO,  that is the following bonds: TFIT10040522, TFIT16240724, TFIT08261125, TFIT15260826, TFIT08031127, TFIT16280428, TFIT16180930, TFIT16300632, TFIT16181034."
   ]
  },
  {
   "cell_type": "code",
   "execution_count": 1,
   "metadata": {},
   "outputs": [],
   "source": [
    "import datetime\n",
    "import pandas as pd\n",
    "import numpy as np\n",
    "import matplotlib.pyplot as plt\n",
    "import matplotlib.lines as mlines\n",
    "\n",
    "import bonds"
   ]
  },
  {
   "cell_type": "code",
   "execution_count": 2,
   "metadata": {},
   "outputs": [
    {
     "data": {
      "text/html": [
       "<div>\n",
       "<style scoped>\n",
       "    .dataframe tbody tr th:only-of-type {\n",
       "        vertical-align: middle;\n",
       "    }\n",
       "\n",
       "    .dataframe tbody tr th {\n",
       "        vertical-align: top;\n",
       "    }\n",
       "\n",
       "    .dataframe thead th {\n",
       "        text-align: right;\n",
       "    }\n",
       "</style>\n",
       "<table border=\"1\" class=\"dataframe\">\n",
       "  <thead>\n",
       "    <tr style=\"text-align: right;\">\n",
       "      <th></th>\n",
       "      <th>Nemotecnico</th>\n",
       "      <th>Rate</th>\n",
       "      <th>Cupon</th>\n",
       "      <th>Maturity</th>\n",
       "      <th>DirtyPrice</th>\n",
       "    </tr>\n",
       "  </thead>\n",
       "  <tbody>\n",
       "    <tr>\n",
       "      <th>0</th>\n",
       "      <td>TFIT10040522</td>\n",
       "      <td>0.04760</td>\n",
       "      <td>7.00</td>\n",
       "      <td>2022-05-04</td>\n",
       "      <td>109.854</td>\n",
       "    </tr>\n",
       "    <tr>\n",
       "      <th>1</th>\n",
       "      <td>TFIT16240724</td>\n",
       "      <td>0.05100</td>\n",
       "      <td>10.00</td>\n",
       "      <td>2024-07-24</td>\n",
       "      <td>124.333</td>\n",
       "    </tr>\n",
       "    <tr>\n",
       "      <th>2</th>\n",
       "      <td>TFIT08261125</td>\n",
       "      <td>0.05420</td>\n",
       "      <td>6.25</td>\n",
       "      <td>2025-11-26</td>\n",
       "      <td>105.140</td>\n",
       "    </tr>\n",
       "    <tr>\n",
       "      <th>3</th>\n",
       "      <td>TFIT15260826</td>\n",
       "      <td>0.05500</td>\n",
       "      <td>7.50</td>\n",
       "      <td>2026-08-26</td>\n",
       "      <td>113.960</td>\n",
       "    </tr>\n",
       "    <tr>\n",
       "      <th>4</th>\n",
       "      <td>TFIT08031127</td>\n",
       "      <td>0.05710</td>\n",
       "      <td>5.75</td>\n",
       "      <td>2027-11-03</td>\n",
       "      <td>101.601</td>\n",
       "    </tr>\n",
       "    <tr>\n",
       "      <th>5</th>\n",
       "      <td>TFIT16280428</td>\n",
       "      <td>0.05772</td>\n",
       "      <td>6.00</td>\n",
       "      <td>2028-04-28</td>\n",
       "      <td>105.984</td>\n",
       "    </tr>\n",
       "    <tr>\n",
       "      <th>6</th>\n",
       "      <td>TFIT16180930</td>\n",
       "      <td>0.05900</td>\n",
       "      <td>7.75</td>\n",
       "      <td>2030-09-18</td>\n",
       "      <td>117.121</td>\n",
       "    </tr>\n",
       "    <tr>\n",
       "      <th>7</th>\n",
       "      <td>TFIT16300632</td>\n",
       "      <td>0.06030</td>\n",
       "      <td>7.00</td>\n",
       "      <td>2032-06-30</td>\n",
       "      <td>112.380</td>\n",
       "    </tr>\n",
       "    <tr>\n",
       "      <th>8</th>\n",
       "      <td>TFIT16181034</td>\n",
       "      <td>0.06230</td>\n",
       "      <td>7.25</td>\n",
       "      <td>2034-10-18</td>\n",
       "      <td>111.664</td>\n",
       "    </tr>\n",
       "  </tbody>\n",
       "</table>\n",
       "</div>"
      ],
      "text/plain": [
       "    Nemotecnico     Rate  Cupon    Maturity  DirtyPrice\n",
       "0  TFIT10040522  0.04760   7.00  2022-05-04     109.854\n",
       "1  TFIT16240724  0.05100  10.00  2024-07-24     124.333\n",
       "2  TFIT08261125  0.05420   6.25  2025-11-26     105.140\n",
       "3  TFIT15260826  0.05500   7.50  2026-08-26     113.960\n",
       "4  TFIT08031127  0.05710   5.75  2027-11-03     101.601\n",
       "5  TFIT16280428  0.05772   6.00  2028-04-28     105.984\n",
       "6  TFIT16180930  0.05900   7.75  2030-09-18     117.121\n",
       "7  TFIT16300632  0.06030   7.00  2032-06-30     112.380\n",
       "8  TFIT16181034  0.06230   7.25  2034-10-18     111.664"
      ]
     },
     "execution_count": 2,
     "metadata": {},
     "output_type": "execute_result"
    }
   ],
   "source": [
    "data_bonds = pd.DataFrame({\"Nemotecnico\": ['TFIT10040522', 'TFIT16240724', 'TFIT08261125', 'TFIT15260826', 'TFIT08031127', 'TFIT16280428', \n",
    "                                           'TFIT16180930', 'TFIT16300632', 'TFIT16181034'],\n",
    "                           \"Rate\": [0.0476, 0.051, 0.0542, 0.055, 0.0571, 0.05772, 0.059, 0.0603, 0.0623],\n",
    "                           \"Cupon\": [7, 10, 6.25, 7.5, 5.75, 6, 7.75, 7, 7.25],\n",
    "                           \"Maturity\": [datetime.date(2022,5,4), datetime.date(2024,7,24), datetime.date(2025,11,26), datetime.date(2026,8,26), \n",
    "                                        datetime.date(2027,11,3), datetime.date(2028,4,28), datetime.date(2030,9,18), datetime.date(2032,6,30), \n",
    "                                        datetime.date(2034,10,18)],\n",
    "                           \"DirtyPrice\": [109.854, 124.333, 105.14, 113.96, 101.601, 105.984, 117.121, 112.38, 111.664]\n",
    "                          })\n",
    "data_bonds"
   ]
  },
  {
   "cell_type": "markdown",
   "metadata": {},
   "source": [
    "## 1. Bonds duration and price based on yield"
   ]
  },
  {
   "cell_type": "code",
   "execution_count": 3,
   "metadata": {},
   "outputs": [
    {
     "data": {
      "text/html": [
       "<div>\n",
       "<style scoped>\n",
       "    .dataframe tbody tr th:only-of-type {\n",
       "        vertical-align: middle;\n",
       "    }\n",
       "\n",
       "    .dataframe tbody tr th {\n",
       "        vertical-align: top;\n",
       "    }\n",
       "\n",
       "    .dataframe thead th {\n",
       "        text-align: right;\n",
       "    }\n",
       "</style>\n",
       "<table border=\"1\" class=\"dataframe\">\n",
       "  <thead>\n",
       "    <tr style=\"text-align: right;\">\n",
       "      <th></th>\n",
       "      <th>Duration</th>\n",
       "      <th>Modified Duration</th>\n",
       "      <th>Rate Price</th>\n",
       "    </tr>\n",
       "  </thead>\n",
       "  <tbody>\n",
       "    <tr>\n",
       "      <th>0</th>\n",
       "      <td>2.073946</td>\n",
       "      <td>1.979712</td>\n",
       "      <td>109.591868</td>\n",
       "    </tr>\n",
       "    <tr>\n",
       "      <th>1</th>\n",
       "      <td>3.734625</td>\n",
       "      <td>3.553402</td>\n",
       "      <td>123.717374</td>\n",
       "    </tr>\n",
       "    <tr>\n",
       "      <th>2</th>\n",
       "      <td>5.026566</td>\n",
       "      <td>4.768133</td>\n",
       "      <td>104.363390</td>\n",
       "    </tr>\n",
       "    <tr>\n",
       "      <th>3</th>\n",
       "      <td>5.339615</td>\n",
       "      <td>5.061247</td>\n",
       "      <td>113.042291</td>\n",
       "    </tr>\n",
       "    <tr>\n",
       "      <th>4</th>\n",
       "      <td>6.390511</td>\n",
       "      <td>6.045323</td>\n",
       "      <td>100.556464</td>\n",
       "    </tr>\n",
       "    <tr>\n",
       "      <th>5</th>\n",
       "      <td>6.463130</td>\n",
       "      <td>6.110435</td>\n",
       "      <td>104.842407</td>\n",
       "    </tr>\n",
       "    <tr>\n",
       "      <th>6</th>\n",
       "      <td>7.635250</td>\n",
       "      <td>7.209868</td>\n",
       "      <td>115.559756</td>\n",
       "    </tr>\n",
       "    <tr>\n",
       "      <th>7</th>\n",
       "      <td>8.510000</td>\n",
       "      <td>8.026030</td>\n",
       "      <td>110.630505</td>\n",
       "    </tr>\n",
       "    <tr>\n",
       "      <th>8</th>\n",
       "      <td>9.548954</td>\n",
       "      <td>8.988943</td>\n",
       "      <td>109.618441</td>\n",
       "    </tr>\n",
       "  </tbody>\n",
       "</table>\n",
       "</div>"
      ],
      "text/plain": [
       "   Duration  Modified Duration  Rate Price\n",
       "0  2.073946           1.979712  109.591868\n",
       "1  3.734625           3.553402  123.717374\n",
       "2  5.026566           4.768133  104.363390\n",
       "3  5.339615           5.061247  113.042291\n",
       "4  6.390511           6.045323  100.556464\n",
       "5  6.463130           6.110435  104.842407\n",
       "6  7.635250           7.209868  115.559756\n",
       "7  8.510000           8.026030  110.630505\n",
       "8  9.548954           8.988943  109.618441"
      ]
     },
     "execution_count": 3,
     "metadata": {},
     "output_type": "execute_result"
    }
   ],
   "source": [
    "# Defining all the TES as bonds type\n",
    "pricing_date = datetime.date(2020,1,30)\n",
    "TES = [bonds.Bond(cupon=cupon, rate=rate, periodicity=1,date_val=pricing_date, date_end=maturity) for \n",
    "         cupon, rate, maturity in zip(data_bonds[\"Cupon\"], data_bonds[\"Rate\"], data_bonds[\"Maturity\"])]\n",
    "duration = [bond.MacaulyDuration() for bond in TES]\n",
    "modified_duration = [bond.ModifiedDuration() for bond in TES]\n",
    "rate_price = [bond.BondPriceYield() for bond in TES]\n",
    "pd.DataFrame({\"Duration\": duration,\"Modified Duration\": modified_duration, \"Rate Price\": rate_price})"
   ]
  },
  {
   "cell_type": "markdown",
   "metadata": {},
   "source": [
    "## 2. Curve Calibration"
   ]
  },
  {
   "cell_type": "code",
   "execution_count": 4,
   "metadata": {},
   "outputs": [
    {
     "name": "stdout",
     "output_type": "stream",
     "text": [
      "The absolute price difference is 0.1672\n"
     ]
    },
    {
     "data": {
      "text/plain": [
       "<matplotlib.lines.Line2D at 0x22f482d0630>"
      ]
     },
     "execution_count": 4,
     "metadata": {},
     "output_type": "execute_result"
    },
    {
     "data": {
      "image/png": "[encoded data removed]",
      "text/plain": [
       "<Figure size 432x288 with 1 Axes>"
      ]
     },
     "metadata": {
      "needs_background": "light"
     },
     "output_type": "display_data"
    }
   ],
   "source": [
    "## First calculate the term of each bond (that is number of years until maturity)\n",
    "data_bonds[\"Term\"] = [(maturity - pricing_date).days / 365 for maturity in data_bonds[\"Maturity\"]]\n",
    "## Generate the initial curve based on observe yields and terms\n",
    "curva_ini = bonds.CalibrateCurve(maturities=data_bonds[\"Maturity\"].tolist(), \n",
    "                           vec_rates=data_bonds[\"Rate\"].tolist(),\n",
    "                           vec_term=data_bonds[\"Term\"].tolist(), \n",
    "                           cupons=data_bonds[\"Cupon\"].tolist(),\n",
    "                           date_calib=pricing_date)\n",
    "calibrated_curve = curva_ini.Calibration()\n",
    "fig, ax = plt.subplots()\n",
    "ax.scatter(data_bonds[\"Term\"].tolist(),data_bonds[\"Rate\"].tolist())\n",
    "line = mlines.Line2D(calibrated_curve[:, 0], calibrated_curve[:, 1], color='red')\n",
    "ax.add_line(line)"
   ]
  },
  {
   "cell_type": "markdown",
   "metadata": {},
   "source": [
    "## 3. Porfolio Pricing"
   ]
  },
  {
   "cell_type": "markdown",
   "metadata": {},
   "source": [
    "Suppos that you have a portfolio of TES consisting of TFIT16240724, TFIT08031127, TFIT16280428 and TFIT16180930 for the sum of `$1,500,000,000`, `$500,000,000`  , `$2,000,000,000` and `$1,200,000,000` COP respectively\n"
   ]
  },
  {
   "cell_type": "code",
   "execution_count": 5,
   "metadata": {},
   "outputs": [],
   "source": [
    "data_bonds[\"Investment\"] = [0,1500000000,0,0,500000000,2000000000,1200000000,0,0]"
   ]
  },
  {
   "cell_type": "code",
   "execution_count": 15,
   "metadata": {},
   "outputs": [
    {
     "data": {
      "text/plain": [
       "'The price of the portfolio is: $5.837 billion COP'"
      ]
     },
     "execution_count": 15,
     "metadata": {},
     "output_type": "execute_result"
    }
   ],
   "source": [
    "curve_pricing = bonds.InterestRateCurve(vec_term=calibrated_curve[:,0].tolist(), vec_rates=calibrated_curve[:,1].tolist())\n",
    "TES_price = [TES[i] for i in np.where(data_bonds[\"Investment\"] > 0)[0].tolist()]\n",
    "bonds_portfolio = data_bonds.loc[data_bonds[\"Investment\"] > 0,:]\n",
    "prices = [curve_pricing.PriceCurve(tes) for tes in TES_price]\n",
    "portfolio_price = np.dot(bonds_portfolio[\"Investment\"],np.array(prices)/100)\n",
    "f'The price of the portfolio is: ${round(portfolio_price/1e9,3)} billion COP'"
   ]
  }
 ],
 "metadata": {
  "kernelspec": {
   "display_name": "Python 3",
   "language": "python",
   "name": "python3"
  },
  "language_info": {
   "codemirror_mode": {
    "name": "ipython",
    "version": 3
   },
   "file_extension": ".py",
   "mimetype": "text/x-python",
   "name": "python",
   "nbconvert_exporter": "python",
   "pygments_lexer": "ipython3",
   "version": "3.7.0"
  }
 },
 "nbformat": 4,
 "nbformat_minor": 2
}
