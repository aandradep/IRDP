{
 "cells": [
  {
   "cell_type": "markdown",
   "metadata": {},
   "source": [
    "# Calibration of Cross Currency Basis Swap Curve"
   ]
  },
  {
   "cell_type": "markdown",
   "metadata": {},
   "source": [
    "In this notebook I price calibrate a Cross Currency Basis Swap Curve based on HfB [paper](https://www.econstor.eu/obitstream/10419/40176/1/481304045.pdf) where they compare the practitioners (wrong) way of calibrating the yield curve with a methodology propose by the authros."
   ]
  },
  {
   "cell_type": "markdown",
   "metadata": {},
   "source": [
    "The data used is the same that they use for example in the paper which allows to compare the result from the code with the paper and makes it easy to explain the coding. \n",
    "The authors use some fake data of swaps that have an anual payment of coupons with the shortest term being 1 year and the longest 10 years (page 8)."
   ]
  },
  {
   "cell_type": "code",
   "execution_count": 2,
   "metadata": {},
   "outputs": [
    {
     "name": "stdout",
     "output_type": "stream",
     "text": [
      "   Terms  Coupons   Basis\n",
      "0      1    0.050 -0.0010\n",
      "1      2    0.051 -0.0012\n",
      "2      3    0.052 -0.0014\n",
      "3      4    0.053 -0.0016\n",
      "4      5    0.054 -0.0018\n",
      "5      6    0.055 -0.0020\n",
      "6      7    0.056 -0.0022\n",
      "7      8    0.057 -0.0024\n",
      "8      9    0.058 -0.0026\n",
      "9     10    0.059 -0.0028\n"
     ]
    }
   ],
   "source": [
    "import pandas as pd\n",
    "import numpy as np\n",
    "import matplotlib.pyplot as plt\n",
    "import matplotlib.lines as mlines\n",
    "swaps_data = pd.DataFrame({'Terms': np.arange(1,11), \n",
    "                           'Coupons': [0.05, 0.051, 0.052, 0.053, 0.054, 0.055, 0.056, 0.057, 0.058, 0.059],\n",
    "                           'Basis': [-0.001, -0.0012, -0.0014, -0.0016, -0.0018, -0.002, -0.0022,-0.0024, -0.0026, -0.0028]})\n",
    "print(swaps_data)"
   ]
  },
  {
   "cell_type": "markdown",
   "metadata": {},
   "source": [
    "## 1. Practitioners Curve Calibration"
   ]
  },
  {
   "cell_type": "markdown",
   "metadata": {},
   "source": [
    "This method consist in modifing and \"Interes Rate Swap Curve\" based on the forward rates implied by the swap coupons. The calibration is done by first calculating discount factores of a \"normal\" IRS (formula (5)), use this curve to calculate  the forwards rates and then calibrating agian the curve including the basis and the forward rates (formula (6)). Because all the swaps in the example data have a anual payment, the curve can be calibrated via bootstrapping with the following code. \n",
    "The function DFBasicSwap calculates the discount factores of an IRS swap that will be use for forward rates."
   ]
  },
  {
   "cell_type": "code",
   "execution_count": 5,
   "metadata": {},
   "outputs": [],
   "source": [
    "def DFBasicSwap(term, coupons):\n",
    "    \"\"\"Calculates the discount factors of a basic swap based on term and coupons\n",
    "    # Arguments:\n",
    "        term {np.array} -- Numpy array with the terms of the swaps in years. \n",
    "        coupons {np.array} -- Numpy array with the coupons of the swaps in number.    \n",
    "    # Return: The result is a Numpy array with the discount factors\n",
    "    # Description: The function asums that the swap pays yearly and the day\n",
    "    count is 30/360 so the payments are done each 1 year. This simplifies greatly the \n",
    "    calculation of the numerator because it does not have to be multiply by its \n",
    "    appropiet df.\n",
    "    \"\"\"\n",
    "    \n",
    "    number_instruments = len(term)\n",
    "    discount_factors = np.zeros(number_instruments)\n",
    "    years_btw_terms = np.diff(np.append([0],term))\n",
    "    \n",
    "    for instrument in range(number_instruments):\n",
    "\n",
    "        if instrument == 0:\n",
    "            numerator = 1\n",
    "        else:\n",
    "            numerator = 1 - coupons[instrument]*sum(discount_factors[0:instrument])\n",
    "            \n",
    "        denominator = 1+coupons[instrument]*years_btw_terms[instrument]\n",
    "        discount_factors[instrument] = numerator/denominator\n",
    "    \n",
    "    return discount_factors "
   ]
  },
  {
   "cell_type": "markdown",
   "metadata": {},
   "source": [
    "This function is used inside DFBasisSwapWrong to calculate the initial discount factores of the market instruments (basis_df) which then are modified  inside the loop. The result of the function are the discount factores that can be easily converted to rates as -log(df)/terms"
   ]
  },
  {
   "cell_type": "code",
   "execution_count": 6,
   "metadata": {},
   "outputs": [],
   "source": [
    "def DFBasisSwapWrong(term, coupons, basis):\n",
    "    \"\"\"Calculates the discount factors of a Basis swap based as PRACTITIONERS DO (WRONG !!!)\n",
    "    # Arguments:\n",
    "        term {np.array} -- Numpy array with the terms of the swaps in years. \n",
    "        coupons {np.array} -- Numpy array with the coupons of the swaps in number.   \n",
    "        basis {np.array} -- Numpy array with the basis of the swaps in number.\n",
    "    # Return: The result is a Numpy array with the discount factors\n",
    "    # Description: The function asums that the swap pays yearly and the day\n",
    "    count is 30/360 so the payments are done each 1 year. This simplifies greatly the \n",
    "    calculation of the numerator because it does not have to be multiply by its \n",
    "    appropiet df.\n",
    "    \"\"\"\n",
    "    number_instruments = len(term)\n",
    "    discount_factors = np.zeros(number_instruments)\n",
    "    years_btw_terms = np.diff(np.append([0],term))\n",
    "    basic_df = DFBasicSwap(term, coupons)\n",
    "    fwd_rate = np.append([1],basic_df)[:-1]/basic_df - 1\n",
    "    \n",
    "    for instrument in range(number_instruments):\n",
    "        \n",
    "        if instrument == 0:\n",
    "            numerator = 1\n",
    "        else:\n",
    "            sumatory = sum([(fwd_rate[j]+basis[instrument])*discount_factors[j] \n",
    "            for j in range(term[instrument]-1)])\n",
    "            numerator = 1-sumatory\n",
    "        \n",
    "        denominator = 1+(fwd_rate[instrument]+basis[instrument])*years_btw_terms[instrument]\n",
    "        discount_factors[instrument] = numerator/denominator\n",
    "        \n",
    "    return discount_factors"
   ]
  },
  {
   "cell_type": "code",
   "execution_count": 7,
   "metadata": {},
   "outputs": [
    {
     "data": {
      "text/plain": [
       "<matplotlib.lines.Line2D at 0x2516e063048>"
      ]
     },
     "execution_count": 7,
     "metadata": {},
     "output_type": "execute_result"
    },
    {
     "data": {
      "image/png": "[encoded data removed]",
      "text/plain": [
       "<Figure size 432x288 with 1 Axes>"
      ]
     },
     "metadata": {
      "needs_background": "light"
     },
     "output_type": "display_data"
    }
   ],
   "source": [
    "wrong_df = DFBasisSwapWrong(np.array(swaps_data.Terms),np.array(swaps_data.Coupons), np.array(swaps_data.Basis))\n",
    "wrong_rates = -np.log(wrong_df)/swaps_data.Terms\n",
    "fig, ax = plt.subplots()\n",
    "ax.scatter(swaps_data.Terms,np.array(swaps_data.Coupons))\n",
    "line = mlines.Line2D(swaps_data.Terms, wrong_rates, color='red')\n",
    "ax.add_line(line)"
   ]
  },
  {
   "cell_type": "markdown",
   "metadata": {},
   "source": [
    "Never the less the authors say this method is inconsistent with IRS curve calibration and therefore propose a method that would be consistent with both swaps"
   ]
  },
  {
   "cell_type": "markdown",
   "metadata": {},
   "source": [
    "## 2. Correct Calibration Method"
   ]
  },
  {
   "cell_type": "markdown",
   "metadata": {},
   "source": [
    "In this approach the cashflows are discounted with an \"appropiate\" curve, that is a modified curve for floating and an IRS curve for fix cashflows. At the end the curve is a combination of formulas (8) and (9) in the paper. In this case instead of using an auxiliar function to calculate normal DF everything is done directly in the DSBasisSwap function. This also calculates the forward rates based on approach of Fruchard, Zammouri and Willims describe in the same paper. "
   ]
  },
  {
   "cell_type": "code",
   "execution_count": 22,
   "metadata": {},
   "outputs": [],
   "source": [
    "def DFBasisSwap(term, coupons, basis):\n",
    "    \"\"\"Calculates the discount factors of a Basis swap based as HfB paper\n",
    "    # Arguments:\n",
    "        term {np.array} -- Numpy array with the terms of the swaps in years. \n",
    "        coupons {np.array} -- Numpy array with the coupons of the swaps in number.   \n",
    "        basis {np.array} -- Numpy array with the basis of the swaps in number.\n",
    "    # Return: The result is a Numpy array with the discount factors \n",
    "              and an other with forward rates.\n",
    "    # Description: The function asums that the swap pays yearly and the day\n",
    "    count is 30/360 so the payments are done each 1 year. This simplifies greatly the \n",
    "    calculation of the numerator because it does not have to be multiply by its \n",
    "    appropiet df.\n",
    "    \"\"\"\n",
    "    \n",
    "    number_instruments = len(term)\n",
    "    basic_df = np.zeros(number_instruments)\n",
    "    years_btw_terms = np.diff(np.append([0],term))\n",
    "    \n",
    "    for i in range(number_instruments):\n",
    "        \n",
    "        if i == 0:\n",
    "            numerator = 1\n",
    "        else:\n",
    "            numerator = 1-(coupons[i]+basis[i])*sum(basic_df[0:i])*years_btw_terms[i]\n",
    "        \n",
    "        denominator = 1+(coupons[i]+basis[i])*years_btw_terms[i]\n",
    "        basic_df[i] = numerator/denominator\n",
    "    \n",
    "    basis_df = np.cumsum(basic_df*years_btw_terms)*basis+basic_df\n",
    "    F_t = basic_df - basis_df\n",
    "    df_part = (np.append([1],basic_df[:-1])/basic_df-1)/years_btw_terms\n",
    "    margin_func_part = (F_t-np.append([0],F_t[:-1]))/(years_btw_terms*basic_df)\n",
    "    fwd_rates = df_part + margin_func_part\n",
    "    \n",
    "    return basis_df, fwd_rates     "
   ]
  },
  {
   "cell_type": "code",
   "execution_count": 47,
   "metadata": {},
   "outputs": [
    {
     "name": "stdout",
     "output_type": "stream",
     "text": [
      "[0.05       0.05205064 0.05415794 0.05632867 0.05857045 0.06089195\n",
      " 0.063303   0.06581489 0.06844062 0.0711952 ]\n"
     ]
    },
    {
     "data": {
      "image/png": "[encoded data removed]",
      "text/plain": [
       "<Figure size 432x288 with 1 Axes>"
      ]
     },
     "metadata": {
      "needs_background": "light"
     },
     "output_type": "display_data"
    }
   ],
   "source": [
    "correct_df = DFBasisSwap(np.array(swaps_data.Terms),np.array(swaps_data.Coupons), np.array(swaps_data.Basis))\n",
    "correct_rates = -np.log(correct_df[0])/swaps_data.Terms\n",
    "forward_rates = correct_df[1]\n",
    "fig, ax = plt.subplots()\n",
    "ax.scatter(swaps_data.Terms,np.array(swaps_data.Coupons))\n",
    "line = mlines.Line2D(swaps_data.Terms, correct_rates, color='red')\n",
    "ax.add_line(line)"
   ]
  },
  {
   "cell_type": "markdown",
   "metadata": {},
   "source": [
    "Comparing the result from both methods there is a clear differenes specially in the long term rates where prices are more sensible to movements in the discount curve. "
   ]
  },
  {
   "cell_type": "code",
   "execution_count": 53,
   "metadata": {},
   "outputs": [
    {
     "name": "stdout",
     "output_type": "stream",
     "text": [
      "   Terms  Coupons   Basis  WrongRates  CorrectRates\n",
      "0      1    0.050 -0.0010    0.047837      0.048838\n",
      "1      2    0.051 -0.0012    0.048619      0.049851\n",
      "2      3    0.052 -0.0014    0.049416      0.050891\n",
      "3      4    0.053 -0.0016    0.050228      0.051961\n",
      "4      5    0.054 -0.0018    0.051057      0.053064\n",
      "5      6    0.055 -0.0020    0.051907      0.054206\n",
      "6      7    0.056 -0.0022    0.052777      0.055389\n",
      "7      8    0.057 -0.0024    0.053672      0.056619\n",
      "8      9    0.058 -0.0026    0.054593      0.057901\n",
      "9     10    0.059 -0.0028    0.055543      0.059243\n"
     ]
    }
   ],
   "source": [
    "swaps_data['WrongRates'] = wrong_rates\n",
    "swaps_data['CorrectRates'] = correct_rates\n",
    "print(swaps_data)"
   ]
  },
  {
   "cell_type": "markdown",
   "metadata": {},
   "source": [
    "## 3. Implementation"
   ]
  },
  {
   "cell_type": "markdown",
   "metadata": {},
   "source": [
    "The script CCBS in the module has the implementation of both methods program in an OOP framework and allowing for a more flexible coupons paymment, for example quarterly or semester (but the same for both legs of the swap) that must be specified for each swap in a new variable call periodicities, using the same optimization method that the IRS use describe [here](https://www.deriscope.com/docs/Hagan_West_curves_AMF.pdf)."
   ]
  },
  {
   "cell_type": "code",
   "execution_count": 3,
   "metadata": {},
   "outputs": [],
   "source": [
    "import CCBS as ccbs\n",
    "periodicities = np.repeat(1,10)"
   ]
  },
  {
   "cell_type": "code",
   "execution_count": 10,
   "metadata": {},
   "outputs": [
    {
     "name": "stdout",
     "output_type": "stream",
     "text": [
      "   term      rate   basis  forward_rates\n",
      "0     1  0.047837 -0.0010       0.050000\n",
      "1     2  0.048619 -0.0012       0.052052\n",
      "2     3  0.049416 -0.0014       0.054163\n",
      "3     4  0.050228 -0.0016       0.056341\n",
      "4     5  0.051057 -0.0018       0.058596\n",
      "5     6  0.051907 -0.0020       0.060937\n",
      "6     7  0.052777 -0.0022       0.063376\n",
      "7     8  0.053672 -0.0024       0.065929\n",
      "8     9  0.054593 -0.0026       0.068610\n",
      "9    10  0.055543 -0.0028       0.071439\n"
     ]
    }
   ],
   "source": [
    "wrong_curve = ccbs.BasisSwapPractitioners(np.array(swaps_data.Terms),np.array(swaps_data.Coupons),\n",
    "                                          periodicities,np.array(swaps_data.Basis)).BasisSwapCurve()\n",
    "print(wrong_curve)"
   ]
  },
  {
   "cell_type": "code",
   "execution_count": 11,
   "metadata": {},
   "outputs": [
    {
     "name": "stdout",
     "output_type": "stream",
     "text": [
      "   term      rate   basis  forward_rates\n",
      "0     1  0.048838 -0.0010       0.050000\n",
      "1     2  0.049851 -0.0012       0.052051\n",
      "2     3  0.050891 -0.0014       0.054158\n",
      "3     4  0.051961 -0.0016       0.056329\n",
      "4     5  0.053064 -0.0018       0.058570\n",
      "5     6  0.054206 -0.0020       0.060892\n",
      "6     7  0.055389 -0.0022       0.063303\n",
      "7     8  0.056619 -0.0024       0.065815\n",
      "8     9  0.057901 -0.0026       0.068441\n",
      "9    10  0.059243 -0.0028       0.071195\n"
     ]
    }
   ],
   "source": [
    "correct_curve = ccbs.BasisSwap(np.array(swaps_data.Terms),np.array(swaps_data.Coupons),\n",
    "                               periodicities,np.array(swaps_data.Basis)).BasisSwapCurve()\n",
    "print(correct_curve)"
   ]
  }
 ],
 "metadata": {
  "kernelspec": {
   "display_name": "Python 3",
   "language": "python",
   "name": "python3"
  },
  "language_info": {
   "codemirror_mode": {
    "name": "ipython",
    "version": 3
   },
   "file_extension": ".py",
   "mimetype": "text/x-python",
   "name": "python",
   "nbconvert_exporter": "python",
   "pygments_lexer": "ipython3",
   "version": "3.7.6"
  }
 },
 "nbformat": 4,
 "nbformat_minor": 4
}
