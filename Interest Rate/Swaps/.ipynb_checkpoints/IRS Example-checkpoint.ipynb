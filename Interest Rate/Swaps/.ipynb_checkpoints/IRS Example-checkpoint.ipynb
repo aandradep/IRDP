{
 "cells": [
  {
   "cell_type": "markdown",
   "metadata": {},
   "source": [
    "# Calibration of a Ineterest Rate Swap Curve for Colombia Interbank Rate (IBR) "
   ]
  },
  {
   "cell_type": "markdown",
   "metadata": {},
   "source": [
    "In this notebook I calibrate a interest rate swaps curve for prixing IRS for the colombian IBR market. The code follows the calibration method propose by Hagan and West in this [paper](https://www.deriscope.com/docs/Hagan_West_curves_AMF.pdf ). "
   ]
  },
  {
   "cell_type": "markdown",
   "metadata": {},
   "source": [
    "For this example i'm using market data from march 21 of 2019 for the most liquid swaps in the market. IRS swaps in colombia are based on the 3 month interbank rate a.k.a IBR and are traded bullet for terms less than 2 years. For longer term swaps they have payments each 3 months and dates are count with a 360 base. "
   ]
  },
  {
   "cell_type": "code",
   "execution_count": 1,
   "metadata": {},
   "outputs": [],
   "source": [
    "import numpy as np\n",
    "import seaborn as sns\n",
    "import pandas as pd\n",
    "import datetime\n",
    "import IRS\n",
    "\n",
    "import matplotlib.pyplot as plt\n",
    "import matplotlib.lines as mlines"
   ]
  },
  {
   "cell_type": "code",
   "execution_count": 2,
   "metadata": {},
   "outputs": [],
   "source": [
    "swaps_rates = [4.225,4.1200,4.1650,4.2100,4.2700,4.4500,4.4750,4.7300,4.9400,\n",
    "             5.1350,5.3100,5.4650,5.6050,5.7350,5.8450]\n",
    "swaps_term = [1/360] + (np.array([3,6,9,12,18])/12).tolist() + [2.0,3.0,4.0,5.0,6.0,7.0,8.0,9.0,10.0]\n",
    "date_val = datetime.date(2019,3,21)\n",
    "curve_term = swaps_term"
   ]
  },
  {
   "cell_type": "code",
   "execution_count": 3,
   "metadata": {},
   "outputs": [
    {
     "data": {
      "text/plain": [
       "<matplotlib.axes._subplots.AxesSubplot at 0x1ce397f8c50>"
      ]
     },
     "execution_count": 3,
     "metadata": {},
     "output_type": "execute_result"
    },
    {
     "data": {
      "image/png": "[encoded data removed]",
      "text/plain": [
       "<Figure size 432x288 with 1 Axes>"
      ]
     },
     "metadata": {
      "needs_background": "light"
     },
     "output_type": "display_data"
    }
   ],
   "source": [
    "df_swaps = pd.DataFrame({'Term': swaps_term,'Rates': swaps_rates})\n",
    "sns.lineplot(x=\"Term\", y=\"Rates\", data=df_swaps, markers=True)"
   ]
  },
  {
   "cell_type": "markdown",
   "metadata": {},
   "source": [
    "The variable swap_rates contains the coupon thats paying the fix rate leg of the swap. For example a IBR swap for 2 years is paying a fix rate of 4.475 for swaping IBR 3 months. \n",
    "To be able to price any swap we need a yield curve to calculate discount factors for the fix rate leg. At T = 0 the variable leg always has a value of par. "
   ]
  },
  {
   "cell_type": "markdown",
   "metadata": {},
   "source": [
    "## 1. Curve Calibration"
   ]
  },
  {
   "cell_type": "markdown",
   "metadata": {},
   "source": [
    "First we initialize the calibration object. It has the date of calibration (date_val) and the rates observed in the market. For simplicity we specified the terms of calibration the same as the one of the rates from the market, but it could be different termns. \n",
    "Note that the termn and the rates enter as a list."
   ]
  },
  {
   "cell_type": "code",
   "execution_count": 4,
   "metadata": {},
   "outputs": [],
   "source": [
    "curveObj = IRS.IRSCurveCalibration(date_val = date_val, swaps_rates = df_swaps.Rates.tolist(),\n",
    "                            swaps_term = df_swaps.Term.tolist(), curve_term = df_swaps.Term.tolist())"
   ]
  },
  {
   "cell_type": "markdown",
   "metadata": {},
   "source": [
    "The calibration is done via bootstrapping the rates. For bullet swaps it is posible to calculate exact rates but for OIS they have to be looped."
   ]
  },
  {
   "cell_type": "code",
   "execution_count": 5,
   "metadata": {},
   "outputs": [],
   "source": [
    "ibr_curve = curveObj.CurveCalibration()"
   ]
  },
  {
   "cell_type": "code",
   "execution_count": 6,
   "metadata": {},
   "outputs": [
    {
     "data": {
      "text/plain": [
       "<matplotlib.lines.Line2D at 0x1ce398c2240>"
      ]
     },
     "execution_count": 6,
     "metadata": {},
     "output_type": "execute_result"
    },
    {
     "data": {
      "image/png": "[encoded data removed]",
      "text/plain": [
       "<Figure size 432x288 with 1 Axes>"
      ]
     },
     "metadata": {
      "needs_background": "light"
     },
     "output_type": "display_data"
    }
   ],
   "source": [
    "fig, ax = plt.subplots()\n",
    "ax.scatter(df_swaps[\"Term\"].tolist(),(df_swaps[\"Rates\"]/100).tolist())\n",
    "line = mlines.Line2D(ibr_curve[:, 0], ibr_curve[:, 1], color='red')\n",
    "ax.add_line(line)"
   ]
  },
  {
   "cell_type": "markdown",
   "metadata": {},
   "source": [
    "## 2. Swap Pircing"
   ]
  },
  {
   "cell_type": "markdown",
   "metadata": {},
   "source": [
    "With the curve we can calibrate a swap at at T = 0, for other dates we would have to include the realice IBR rate to calcualte acumulated coupon of the variable rate leg. \n",
    "For this example I price a swal with a coupon of 5.5 and a term of 6.5 years. "
   ]
  },
  {
   "cell_type": "markdown",
   "metadata": {},
   "source": [
    "The resulting price is based on a par value of 1"
   ]
  },
  {
   "cell_type": "code",
   "execution_count": 12,
   "metadata": {},
   "outputs": [
    {
     "name": "stdout",
     "output_type": "stream",
     "text": [
      "The price of the swap is: 0.9533\n"
     ]
    }
   ],
   "source": [
    "swap = IRS.IRSwap(ibr_curve, market_rate = 5.5, term = 6.5, date_val = date_val, date_end = date_val+ pd.DateOffset(months = 6.5*12))\n",
    "swap_price = swap.IRSPricing()\n",
    "print(f'The price of the swap is: {round(swap_price,4)}')"
   ]
  }
 ],
 "metadata": {
  "kernelspec": {
   "display_name": "Python 3",
   "language": "python",
   "name": "python3"
  },
  "language_info": {
   "codemirror_mode": {
    "name": "ipython",
    "version": 3
   },
   "file_extension": ".py",
   "mimetype": "text/x-python",
   "name": "python",
   "nbconvert_exporter": "python",
   "pygments_lexer": "ipython3",
   "version": "3.7.6"
  }
 },
 "nbformat": 4,
 "nbformat_minor": 4
}
